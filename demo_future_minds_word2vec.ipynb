{
 "cells": [
  {
   "cell_type": "code",
   "execution_count": 1,
   "id": "83bae539-1963-4edb-9ddd-1fdd4bde41b0",
   "metadata": {},
   "outputs": [
    {
     "data": {
      "text/html": [
       "<style>:root { --jp-notebook-max-width: 100% !important; }</style>"
      ],
      "text/plain": [
       "<IPython.core.display.HTML object>"
      ]
     },
     "metadata": {},
     "output_type": "display_data"
    }
   ],
   "source": [
    "from IPython.display import display, HTML\n",
    "display(HTML(\"<style>:root { --jp-notebook-max-width: 100% !important; }</style>\"))"
   ]
  },
  {
   "cell_type": "markdown",
   "id": "911f346a-4be8-460b-acb3-0124d889f156",
   "metadata": {},
   "source": [
    "## Carregando manipulando embeddings com word2vec\n",
    "\n",
    "http://nilc.icmc.usp.br/nilc/index.php/repositorio-de-word-embeddings-do-nilc"
   ]
  },
  {
   "cell_type": "code",
   "execution_count": 2,
   "id": "46715fe0-3285-4ba2-9190-8c54c5afe63d",
   "metadata": {},
   "outputs": [],
   "source": [
    "# !pip install gensim"
   ]
  },
  {
   "cell_type": "code",
   "execution_count": 1,
   "id": "cb2827f4-3c0c-4512-a5f7-22019bf9b963",
   "metadata": {},
   "outputs": [
    {
     "name": "stdout",
     "output_type": "stream",
     "text": [
      "Author: Armindo Guerra\n",
      "\n"
     ]
    }
   ],
   "source": [
    "%reload_ext watermark\n",
    "%watermark -a \"Armindo Guerra\""
   ]
  },
  {
   "cell_type": "code",
   "execution_count": 2,
   "id": "1ddabbe6-3957-4f70-a1db-860566377ab8",
   "metadata": {},
   "outputs": [],
   "source": [
    "from gensim.models import KeyedVectors\n",
    "import numpy as np"
   ]
  },
  {
   "cell_type": "code",
   "execution_count": 10,
   "id": "2232fa61-c893-4dc8-9884-4d9cbd05c9ca",
   "metadata": {},
   "outputs": [],
   "source": [
    "model = KeyedVectors.load_word2vec_format('skip_s50.txt')"
   ]
  },
  {
   "cell_type": "code",
   "execution_count": 11,
   "id": "93732594-09dd-4e21-a3ab-3dcd51142357",
   "metadata": {},
   "outputs": [
    {
     "data": {
      "text/plain": [
       "array([-0.077893,  0.037609, -0.102657,  0.339229, -0.141055,  0.464991,\n",
       "       -0.088862, -0.689196, -0.65703 ,  0.002508,  0.363729, -0.282132,\n",
       "        0.237254, -0.055641,  0.704462, -1.177931,  0.274443, -0.310596,\n",
       "       -0.253598,  0.471766, -0.123077,  0.059503, -0.520377,  0.115734,\n",
       "        0.171672, -1.005505,  0.96736 ,  0.612519,  0.758294, -1.002111,\n",
       "       -0.511661, -0.775725,  0.385472, -0.485226, -0.17138 , -0.545109,\n",
       "        0.129397,  0.203439, -0.102621,  0.130424, -0.210955,  0.027884,\n",
       "        0.443153, -0.217936,  0.31023 , -0.089303,  0.372972,  0.328589,\n",
       "        0.370835,  0.141166], dtype=float32)"
      ]
     },
     "execution_count": 11,
     "metadata": {},
     "output_type": "execute_result"
    }
   ],
   "source": [
    "model['jornal']"
   ]
  },
  {
   "cell_type": "code",
   "execution_count": 12,
   "id": "b1dc18ef-b995-48d9-9097-9daebbc91f28",
   "metadata": {},
   "outputs": [
    {
     "data": {
      "text/plain": [
       "0.13198964"
      ]
     },
     "execution_count": 12,
     "metadata": {},
     "output_type": "execute_result"
    }
   ],
   "source": [
    "model.similarity('jornal', 'carro')"
   ]
  },
  {
   "cell_type": "code",
   "execution_count": 7,
   "id": "026364d9-c35d-44bc-957e-e5c6c9ee0556",
   "metadata": {},
   "outputs": [
    {
     "data": {
      "text/plain": [
       "0.13198964"
      ]
     },
     "execution_count": 7,
     "metadata": {},
     "output_type": "execute_result"
    }
   ],
   "source": [
    "model.similarity('jornal', 'carro')"
   ]
  },
  {
   "cell_type": "code",
   "execution_count": 13,
   "id": "a8373d92-749c-43cf-bfd8-2a9f8b6415a4",
   "metadata": {},
   "outputs": [
    {
     "data": {
      "text/plain": [
       "[('passageiro', 0.907621443271637),\n",
       " ('trator', 0.9069172143936157),\n",
       " ('caminhão', 0.8961775302886963),\n",
       " ('jipe', 0.8891472220420837),\n",
       " ('avião', 0.8786296248435974)]"
      ]
     },
     "execution_count": 13,
     "metadata": {},
     "output_type": "execute_result"
    }
   ],
   "source": [
    "model.most_similar('carro')[:5]"
   ]
  },
  {
   "cell_type": "code",
   "execution_count": 3,
   "id": "f82cdb01-9c28-4389-9acd-e2d4e8be8ccf",
   "metadata": {},
   "outputs": [
    {
     "name": "stdout",
     "output_type": "stream",
     "text": [
      "numpy : 1.26.4\n",
      "gensim: 4.3.3\n",
      "\n"
     ]
    }
   ],
   "source": [
    "%watermark --iversions"
   ]
  },
  {
   "cell_type": "code",
   "execution_count": null,
   "id": "4dd69d74-ee28-4f7d-b94c-0f1898377aab",
   "metadata": {},
   "outputs": [],
   "source": []
  }
 ],
 "metadata": {
  "kernelspec": {
   "display_name": "Python 3 (ipykernel)",
   "language": "python",
   "name": "python3"
  },
  "language_info": {
   "codemirror_mode": {
    "name": "ipython",
    "version": 3
   },
   "file_extension": ".py",
   "mimetype": "text/x-python",
   "name": "python",
   "nbconvert_exporter": "python",
   "pygments_lexer": "ipython3",
   "version": "3.12.7"
  }
 },
 "nbformat": 4,
 "nbformat_minor": 5
}
