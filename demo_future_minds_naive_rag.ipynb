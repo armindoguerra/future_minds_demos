{
 "cells": [
  {
   "cell_type": "code",
   "execution_count": 1,
   "id": "5de6b277-c2f8-4f78-8890-39a1e0f1feac",
   "metadata": {},
   "outputs": [
    {
     "data": {
      "text/html": [
       "<style>:root { --jp-notebook-max-width: 100% !important; }</style>"
      ],
      "text/plain": [
       "<IPython.core.display.HTML object>"
      ]
     },
     "metadata": {},
     "output_type": "display_data"
    }
   ],
   "source": [
    "from IPython.display import display, HTML\n",
    "display(HTML(\"<style>:root { --jp-notebook-max-width: 100% !important; }</style>\"))"
   ]
  },
  {
   "cell_type": "code",
   "execution_count": 2,
   "id": "a6d746cf-b234-4cee-9891-c76c2b2913ea",
   "metadata": {},
   "outputs": [
    {
     "name": "stdout",
     "output_type": "stream",
     "text": [
      "Author: Armindo Guerra\n",
      "\n"
     ]
    }
   ],
   "source": [
    "%reload_ext watermark\n",
    "%watermark -a \"Armindo Guerra\""
   ]
  },
  {
   "cell_type": "code",
   "execution_count": 5,
   "id": "7f9f7a73-4cf5-414b-8f59-8a7a6145dac7",
   "metadata": {},
   "outputs": [],
   "source": [
    "import weaviate\n",
    "\n",
    "client = weaviate.connect_to_local()"
   ]
  },
  {
   "cell_type": "code",
   "execution_count": 2,
   "id": "ab0f9783-5673-4558-bb54-60532fdffe97",
   "metadata": {},
   "outputs": [],
   "source": [
    "documents = [\n",
    "  \"Llamas are members of the camelid family meaning they're pretty closely related to vicuñas and camels\",\n",
    "  \"Llamas were first domesticated and used as pack animals 4,000 to 5,000 years ago in the Peruvian highlands\",\n",
    "  \"Llamas can grow as much as 6 feet tall though the average llama between 5 feet 6 inches and 5 feet 9 inches tall\",\n",
    "  \"Llamas weigh between 280 and 450 pounds and can carry 25 to 30 percent of their body weight\",\n",
    "  \"Llamas are vegetarians and have very efficient digestive systems\",\n",
    "  \"Llamas live to be about 20 years old, though some only live for 15 years and others live to be 30 years old\",\n",
    "]"
   ]
  },
  {
   "cell_type": "code",
   "execution_count": 3,
   "id": "4ff1a4ec-9c4a-4d36-bc6d-eb9031ee3a85",
   "metadata": {},
   "outputs": [],
   "source": [
    "client.collections.delete(\"docs\")"
   ]
  },
  {
   "cell_type": "code",
   "execution_count": 6,
   "id": "5e83e46f-a349-4675-9b7f-b9388f192eba",
   "metadata": {
    "scrolled": true
   },
   "outputs": [],
   "source": [
    "import weaviate.classes as wvc\n",
    "from weaviate.classes.config import Property, DataType\n",
    "\n",
    "# Create a new data collection\n",
    "collection = client.collections.create(\n",
    "    name = \"docs\", # Name of the data collection\n",
    "    properties=[\n",
    "        Property(name=\"text\", data_type=DataType.TEXT), # Name and data type of the property\n",
    "    ],\n",
    ")"
   ]
  },
  {
   "cell_type": "code",
   "execution_count": 7,
   "id": "35038cec-8090-4411-91d2-a43ba3ca5c70",
   "metadata": {},
   "outputs": [],
   "source": [
    "import ollama\n",
    "\n",
    "# Store each document in a vector embedding database\n",
    "with collection.batch.fixed_size(batch_size=200) as batch:\n",
    "  for i, d in enumerate(documents):\n",
    "    # Generate embeddings\n",
    "    response = ollama.embeddings(model = \"all-minilm\",\n",
    "                                 prompt = d)\n",
    "\n",
    "    # Add data object with text and embedding\n",
    "    batch.add_object(\n",
    "        properties = {\"text\" : d},\n",
    "        vector = response[\"embedding\"],\n",
    "    )"
   ]
  },
  {
   "cell_type": "code",
   "execution_count": 6,
   "id": "b1099899-f95d-4386-96ee-5dece1bc5e51",
   "metadata": {},
   "outputs": [],
   "source": [
    "# An example prompt\n",
    "prompt = \"What animals are llamas related to?\"\n",
    "\n",
    "# Generate an embedding for the prompt and retrieve the most relevant doc\n",
    "response = ollama.embeddings(\n",
    "  model = \"all-minilm\",\n",
    "  prompt = prompt,\n",
    ")\n",
    "\n",
    "results = collection.query.near_vector(near_vector = response[\"embedding\"],\n",
    "                                       limit = 1)\n",
    "\n",
    "data = results.objects[0].properties['text']"
   ]
  },
  {
   "cell_type": "code",
   "execution_count": 7,
   "id": "cd324a97-273b-491c-9796-6ba6a022a8e6",
   "metadata": {},
   "outputs": [
    {
     "name": "stdout",
     "output_type": "stream",
     "text": [
      "\n",
      "Llamas are members of the camelid family, which means they are closely related to two other animals: vicuñas and camels. These three species are all part of the Camelidae family and share many similarities in their physical characteristics and behavior. Vicuñas are wild relatives of llamas and alpacas, while camels are a different subfamily within the same family. So, to summarize, llamas are related to vicuñas and camels.\n"
     ]
    }
   ],
   "source": [
    "prompt_template = f\"Using this data: {data}. Respond to this prompt: {prompt}\"\n",
    "\n",
    "# Generate a response combining the prompt and data we retrieved in step 2\n",
    "output = ollama.generate(\n",
    "  model = \"llama2\",\n",
    "  prompt = prompt_template,\n",
    ")\n",
    "\n",
    "print(output['response'])"
   ]
  },
  {
   "cell_type": "code",
   "execution_count": 8,
   "id": "cfcbcddc-5b6f-4e62-95d6-3f65c2816f27",
   "metadata": {},
   "outputs": [
    {
     "name": "stdout",
     "output_type": "stream",
     "text": [
      "weaviate: 4.11.1\n",
      "ollama  : 0.4.7\n",
      "IPython : 8.27.0\n",
      "\n"
     ]
    }
   ],
   "source": [
    "%watermark --iversions"
   ]
  },
  {
   "cell_type": "code",
   "execution_count": null,
   "id": "dd4d9b56-5d50-47b9-927a-00a782139423",
   "metadata": {},
   "outputs": [],
   "source": []
  }
 ],
 "metadata": {
  "kernelspec": {
   "display_name": "Python 3 (ipykernel)",
   "language": "python",
   "name": "python3"
  },
  "language_info": {
   "codemirror_mode": {
    "name": "ipython",
    "version": 3
   },
   "file_extension": ".py",
   "mimetype": "text/x-python",
   "name": "python",
   "nbconvert_exporter": "python",
   "pygments_lexer": "ipython3",
   "version": "3.12.7"
  }
 },
 "nbformat": 4,
 "nbformat_minor": 5
}
